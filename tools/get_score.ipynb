{
 "cells": [
  {
   "cell_type": "code",
   "execution_count": 46,
   "metadata": {},
   "outputs": [],
   "source": [
    "import pymysql\n",
    "import pandas as pd\n",
    "import warnings\n",
    "import sys\n",
    "from datetime import datetime\n",
    "warnings.filterwarnings('ignore')"
   ]
  },
  {
   "cell_type": "code",
   "execution_count": 47,
   "metadata": {},
   "outputs": [],
   "source": [
    "def connect_mysql():\n",
    "    conn = pymysql.connect(\n",
    "        host = '127.0.0.1', # 连接名称，默认127.0.0.1\n",
    "        user = 'root', # 用户名\n",
    "        passwd='2020Cnic@!', # 密码\n",
    "        port= 3306, # 端口，默认为3306\n",
    "        db='oj', # 数据库名称\n",
    "        charset='utf8', # 字符编码\n",
    "    )\n",
    "    return conn"
   ]
  },
  {
   "cell_type": "code",
   "execution_count": 48,
   "metadata": {},
   "outputs": [],
   "source": [
    "def show_table_content(cur, table_name:str):\n",
    "    sql = \"SELECT * FROM `%s`\" % table_name\n",
    "    \n",
    "    cur.execute(sql) # 执行SQL语句\n",
    "    data = cur.fetchall() # 通过fetchall方法获得数据\n",
    "    cur.execute(\"SHOW COLUMNS FROM `%s`\" % table_name)\n",
    "    head = cur.fetchall()\n",
    "    print(head)\n",
    "    for d in data:\n",
    "        print(d)"
   ]
  },
  {
   "cell_type": "code",
   "execution_count": 49,
   "metadata": {},
   "outputs": [],
   "source": [
    "def show_table_list(cur):\n",
    "    tables_list = []\n",
    "    data = cur.execute(\"show tables\")\n",
    "    data = cur.fetchall()\n",
    "    for d in data:\n",
    "        print(d[0])\n",
    "    return tables_list"
   ]
  },
  {
   "cell_type": "code",
   "execution_count": 50,
   "metadata": {},
   "outputs": [],
   "source": [
    "def get_user_id_dict(cur, id_range:tuple):\n",
    "    name_id_dict = {}\n",
    "    min_id, max_id = id_range\n",
    "    # User key:\n",
    "    ## 0. id\n",
    "    ## 1. 2020K...\n",
    "    ## 2. name \n",
    "    \n",
    "    cur.execute(\"SELECT * FROM User\")\n",
    "    data = cur.fetchall()\n",
    "\n",
    "    for d in data:\n",
    "        if min_id <= int(d[0]) and max_id >= int(d[0]):\n",
    "            name_id_dict[d[2]] = d[0]\n",
    "    return name_id_dict "
   ]
  },
  {
   "cell_type": "code",
   "execution_count": 51,
   "metadata": {},
   "outputs": [],
   "source": [
    "def get_exp_id_dict(cur, id_range:tuple = (0,1000)):\n",
    "    # User key:\n",
    "    ## 0. id\n",
    "    ## 1. socket应用\n",
    "    exp_id_dict = {}\n",
    "    min_id, max_id = id_range\n",
    "    \n",
    "    cur.execute(\"SELECT * FROM Contest\")\n",
    "    data = cur.fetchall()\n",
    "    for d in data:\n",
    "        if min_id <= int(d[0]) and max_id >= int(d[0]):\n",
    "            exp_id_dict[d[1]] = d[0]\n",
    "    return exp_id_dict"
   ]
  },
  {
   "cell_type": "code",
   "execution_count": 52,
   "metadata": {},
   "outputs": [],
   "source": [
    "def late_submission(time:str, ddl:str):\n",
    "    format_pattern = \"%Y-%m-%d %H:%M:%S\"\n",
    "    difference = (datetime.strptime(time, format_pattern) - datetime.strptime(ddl, format_pattern))\n",
    "    \n",
    "    if difference.days >= 0:\n",
    "        return True\n",
    "    else:\n",
    "        return False"
   ]
  },
  {
   "cell_type": "code",
   "execution_count": 53,
   "metadata": {},
   "outputs": [],
   "source": [
    "def get_score_from_res(res, ddl_time):\n",
    "    res = list(res)\n",
    "    name_id = res[2]\n",
    "    exp_id  = res[1]\n",
    "    status  = res[4]\n",
    "    desc    = res[5]\n",
    "    uptime  = str(res[-1])\n",
    "    if \"编译失败\" in desc or \"正在判题\" in desc:\n",
    "        return 0\n",
    "    standard_score = round(10 * desc.count(\"Pass\") / (desc.count(\"Pass\") + desc.count(\"Fail\")),2)\n",
    "    if late_submission(uptime, ddl_time):\n",
    "        standard_score *= 0.8\n",
    "\n",
    "    return standard_score\n",
    "    "
   ]
  },
  {
   "cell_type": "code",
   "execution_count": 54,
   "metadata": {},
   "outputs": [],
   "source": [
    "def get_stu_exp_score(cur, name:str, name_id:int, exp:str, exp_id:int, ddl_time:str):\n",
    "    cur.execute(\"SELECT * FROM FileUploadRecord WHERE userId = %d AND expId = %d\" % (name_id, exp_id))\n",
    "    data = cur.fetchall()\n",
    "    \n",
    "    # 完全未提交时，为0分\n",
    "    if not data:\n",
    "        return 0 # no submit, score 0\n",
    "    else:\n",
    "        last_submit_res = list(data)[-1]\n",
    "        score = get_score_from_res(last_submit_res, ddl_time)\n",
    "    #sys.exit(0)\n",
    "    return score"
   ]
  },
  {
   "cell_type": "code",
   "execution_count": 55,
   "metadata": {},
   "outputs": [],
   "source": [
    "def generate_score(cur, name_id_dict:dict, exp_id_dict:dict, exp_info_dict:dict):\n",
    "    index = list(name_id_dict.keys())\n",
    "    columns = list(exp_id_dict.keys())\n",
    "    df = pd.DataFrame(columns=columns, index=index)\n",
    "    \n",
    "    #print(index,columns)\n",
    "    for name, name_id in name_id_dict.items():\n",
    "        for exp, exp_id in exp_id_dict.items():\n",
    "            print(name, name_id, exp, exp_id)\n",
    "            if int(name_id) != -1 and int(exp_id) != -1:\n",
    "                df.loc[name, exp] = get_stu_exp_score(cur, name, name_id, exp, exp_id, exp_info_dict[exp_id][\"ddl_time\"])\n",
    "    return df"
   ]
  },
  {
   "cell_type": "code",
   "execution_count": 56,
   "metadata": {},
   "outputs": [],
   "source": [
    "def add_absence_info(df:pd.DataFrame, name_id_dict:dict, filename:str):\n",
    "    # the content of filename is copy from sep\n",
    "    with open(filename, \"r\") as f:\n",
    "        lines = f.readlines()\n",
    "        lines = [line.strip() for line in lines]\n",
    "\n",
    "    item_count = {}\n",
    "    for line in lines:\n",
    "        items = line.split()\n",
    "        for item in items:\n",
    "            if item in item_count:\n",
    "                item_count[item] += 1\n",
    "            else:\n",
    "                item_count[item] = 1\n",
    "    absence_list = []\n",
    "    for name in list(name_id_dict.keys()):\n",
    "        absence_list.append(item_count[name] if name in list(item_count.keys()) else 0)\n",
    "    df[\"absence\"] = absence_list\n",
    "    print(absence_list)"
   ]
  },
  {
   "cell_type": "code",
   "execution_count": 57,
   "metadata": {},
   "outputs": [],
   "source": [
    "def del_user_id_dict(cur, lowest_stu_id = 200):\n",
    "    cur.execute(\"use oj\")\n",
    "    cur.execute(\"DELETE from User WHERE userId>=%d\" % lowest_stu_id)\n",
    "    cur.execute(\"SELECT * FROM User\")\n",
    "    data = cur.fetchall()\n",
    "    for d in data:\n",
    "        print(d)"
   ]
  },
  {
   "cell_type": "code",
   "execution_count": 58,
   "metadata": {},
   "outputs": [
    {
     "name": "stdout",
     "output_type": "stream",
     "text": [
      "(8, 'lyg', '梁阳光', '95b0995957ff5fefaa7e0ff453dc8284', 0, None, datetime.datetime(2021, 8, 13, 13, 43, 46), datetime.datetime(2024, 8, 13, 11, 25, 31), None, None, None, None, 0, 0)\n",
      "(130, 'yjb', '杨金宝', '95b0995957ff5fefaa7e0ff453dc8284', 0, None, datetime.datetime(2021, 8, 24, 10, 35, 33), datetime.datetime(2022, 3, 30, 18, 45, 45), None, None, None, None, 0, 0)\n"
     ]
    }
   ],
   "source": [
    "#连接数据库\n",
    "conn = connect_mysql()\n",
    "cur = conn.cursor() # 生成游标对象\n",
    "#show_table_list(cur)\n",
    "#show_table_content(cur, \"FileUploadRecord\")\n",
    "term_start = True\n",
    "if term_start:\n",
    "    # after deleting, restarting docker is necessary\n",
    "    del_user_id_dict(cur)\n",
    "else:\n",
    "    name_id_dict = get_user_id_dict(cur, (429,455))\n",
    "    exp_id_dict  = get_exp_id_dict(cur, (12,24))# only consider this term's submit\n",
    "    exp_info_list = {\n",
    "        13:{\"exp_name\": \"socket\",    \"ddl_time\": \"2024-04-03 23:59:59\"},\n",
    "        14:{\"exp_name\": \"hub\",       \"ddl_time\": \"2024-04-10 23:59:59\"},\n",
    "        15:{\"exp_name\": \"switch\",    \"ddl_time\": \"2024-04-10 23:59:59\"},\n",
    "        16:{\"exp_name\": \"stp\",       \"ddl_time\": \"2024-04-17 23:59:59\"},\n",
    "        17:{\"exp_name\": \"router\",    \"ddl_time\": \"2024-05-08 23:59:59\"},\n",
    "        18:{\"exp_name\": \"mospf\",     \"ddl_time\": \"2024-05-22 23:59:59\"},\n",
    "        19:{\"exp_name\": \"ip_lookup\", \"ddl_time\": \"2024-05-29 23:59:59\"},\n",
    "        20:{\"exp_name\": \"echo\",      \"ddl_time\": \"2024-06-12 23:59:59\"},\n",
    "        21:{\"exp_name\": \"bulk\",      \"ddl_time\": \"2024-06-12 23:59:59\"},\n",
    "        22:{\"exp_name\": \"nat\",       \"ddl_time\": \"2024-06-18 23:59:59\"},\n",
    "        23:{\"exp_name\": \"bulk_loss\", \"ddl_time\": \"2024-06-22 23:59:59\"},\n",
    "        24:{\"exp_name\": \"graft\",     \"ddl_time\": \"2024-06-26 23:59:59\"},\n",
    "    }\n",
    "    # get score\n",
    "    df = generate_score(cur, name_id_dict, exp_id_dict, exp_info_list)\n",
    "    # add absence info\n",
    "    add_absence_info(df, name_id_dict, \"缺勤名单.txt\")\n",
    "\n",
    "    df.to_csv(\"score.csv\")\n",
    "    df.to_excel(\"score.xlsx\")\n",
    "cur.close() # 关闭游标\n",
    "conn.close() # 关闭连接"
   ]
  }
 ],
 "metadata": {
  "kernelspec": {
   "display_name": "Python 3",
   "language": "python",
   "name": "python3"
  },
  "language_info": {
   "codemirror_mode": {
    "name": "ipython",
    "version": 3
   },
   "file_extension": ".py",
   "mimetype": "text/x-python",
   "name": "python",
   "nbconvert_exporter": "python",
   "pygments_lexer": "ipython3",
   "version": "3.8.10"
  }
 },
 "nbformat": 4,
 "nbformat_minor": 2
}
