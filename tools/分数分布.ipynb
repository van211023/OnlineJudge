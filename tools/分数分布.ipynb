{
 "cells": [
  {
   "cell_type": "code",
   "execution_count": 19,
   "metadata": {},
   "outputs": [],
   "source": [
    "import os\n",
    "import math"
   ]
  },
  {
   "cell_type": "code",
   "execution_count": 20,
   "metadata": {},
   "outputs": [],
   "source": [
    "with open(\"分数分布.txt\", \"r\") as f:\n",
    "    lines = [float(line.strip()) for line in  f.readlines()]\n",
    "    "
   ]
  },
  {
   "cell_type": "code",
   "execution_count": 22,
   "metadata": {},
   "outputs": [
    {
     "name": "stdout",
     "output_type": "stream",
     "text": [
      "[18, 2, 0, 0, 7]\n",
      "A:66.67\n",
      "B:7.41\n",
      "C:0.00\n",
      "D:0.00\n",
      "F:25.93\n"
     ]
    }
   ],
   "source": [
    "s85_100 = 0\n",
    "s75_85 = 0\n",
    "s62_75 = 0\n",
    "s60_62 = 0\n",
    "s_le60 = 0\n",
    "for s in lines:\n",
    "    #s = math.sqrt(s) * 10\n",
    "    if s >= 85 and s <= 100:\n",
    "        s85_100 += 1\n",
    "    elif s >= 75 and s < 85:\n",
    "        s75_85 += 1\n",
    "    elif s >= 62 and s < 75:\n",
    "        s62_75 += 1\n",
    "    elif s >= 60 and s < 62:\n",
    "        s60_62 += 1\n",
    "    else:\n",
    "        s_le60 += 1\n",
    "\n",
    "score_counter = [s85_100, s75_85, s62_75, s60_62, s_le60]\n",
    "print(score_counter)\n",
    "rank_list = [\"A\",\"B\",\"C\",\"D\",\"F\"]\n",
    "assert sum(score_counter)== len(lines)\n",
    "for c, rank in zip(score_counter,rank_list):\n",
    "    print(\"%s:%.2f\" % (rank, c / len(lines) * 100))\n",
    "    "
   ]
  }
 ],
 "metadata": {
  "kernelspec": {
   "display_name": "Python 3",
   "language": "python",
   "name": "python3"
  },
  "language_info": {
   "codemirror_mode": {
    "name": "ipython",
    "version": 3
   },
   "file_extension": ".py",
   "mimetype": "text/x-python",
   "name": "python",
   "nbconvert_exporter": "python",
   "pygments_lexer": "ipython3",
   "version": "3.8.10"
  }
 },
 "nbformat": 4,
 "nbformat_minor": 2
}
